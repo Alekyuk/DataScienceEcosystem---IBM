{
 "cells": [
  {
   "cell_type": "markdown",
   "id": "946a1479-09bd-4f2b-8d9c-1f534266e148",
   "metadata": {},
   "source": [
    "# Data Science Tools and Ecosystem"
   ]
  },
  {
   "cell_type": "markdown",
   "id": "dba7797d-157d-42be-a2d8-7c7f08282731",
   "metadata": {},
   "source": [
    "Let's summarize Data Science Tools and ecosystems"
   ]
  },
  {
   "cell_type": "markdown",
   "id": "d05d859b-89ca-4e88-bf81-44b19c1a0565",
   "metadata": {},
   "source": [
    "**Objectives:**\n",
    "\n",
    "- use markdown format within Jupyter Notebooks\n",
    "- create a list of the most used Data Science tools\n",
    "- calculate a multiplication and a division\n",
    "- calculate a division"
   ]
  },
  {
   "cell_type": "markdown",
   "id": "09fb56ad-7f58-4943-8cf3-cddf95aeac62",
   "metadata": {},
   "source": [
    "Some of the commonly used libraries used by Data Scientists include:\n",
    "- Python\n",
    "- Julia\n",
    "- c++"
   ]
  },
  {
   "cell_type": "markdown",
   "id": "23508cfe-93b7-473a-846e-471c89783e91",
   "metadata": {},
   "source": [
    "|Data science tools \n",
    "|----------|\n",
    "| Jupyter |\n",
    "| VSCode |\n",
    "| iPython |"
   ]
  },
  {
   "cell_type": "markdown",
   "id": "cb7e0e86-1b0e-4f30-9148-245b365d9b3f",
   "metadata": {},
   "source": [
    "### Below are a few examples of evaluating arithmetic expressions in Python."
   ]
  },
  {
   "cell_type": "code",
   "execution_count": 3,
   "id": "110e23b2-42d4-47bf-9592-df66476608e2",
   "metadata": {},
   "outputs": [
    {
     "data": {
      "text/plain": [
       "17"
      ]
     },
     "execution_count": 3,
     "metadata": {},
     "output_type": "execute_result"
    }
   ],
   "source": [
    "# This a simple arithmetic expression to mutiply then add integers\n",
    "(3*4)+5"
   ]
  },
  {
   "cell_type": "code",
   "execution_count": 4,
   "id": "060f7180-9954-4adf-b3fa-b75e22550e1e",
   "metadata": {},
   "outputs": [
    {
     "data": {
      "text/plain": [
       "3.3333333333333335"
      ]
     },
     "execution_count": 4,
     "metadata": {},
     "output_type": "execute_result"
    }
   ],
   "source": [
    "# This will convert 200 minutes to hours by diving by 60\n",
    "200/60"
   ]
  },
  {
   "cell_type": "markdown",
   "id": "e214ca60-b1b8-4119-ae84-5777498c5842",
   "metadata": {},
   "source": [
    "## Author:\n",
    "Alexandre"
   ]
  },
  {
   "cell_type": "code",
   "execution_count": null,
   "id": "fb91ed13-1a32-44ed-b1eb-86ea1fb35791",
   "metadata": {},
   "outputs": [],
   "source": []
  }
 ],
 "metadata": {
  "kernelspec": {
   "display_name": "Python 3 (ipykernel)",
   "language": "python",
   "name": "python3"
  },
  "language_info": {
   "codemirror_mode": {
    "name": "ipython",
    "version": 3
   },
   "file_extension": ".py",
   "mimetype": "text/x-python",
   "name": "python",
   "nbconvert_exporter": "python",
   "pygments_lexer": "ipython3",
   "version": "3.12.3"
  }
 },
 "nbformat": 4,
 "nbformat_minor": 5
}
